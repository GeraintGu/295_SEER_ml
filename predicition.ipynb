{
 "cells": [
  {
   "cell_type": "code",
   "execution_count": 1,
   "metadata": {},
   "outputs": [
    {
     "name": "stdout",
     "output_type": "stream",
     "text": [
      "Requirement already satisfied: ipynb in /Users/geraintgu0121gmail.com/opt/anaconda3/lib/python3.7/site-packages (0.5.1)\r\n"
     ]
    },
    {
     "data": {
      "image/png": "[encoded data removed]",
      "text/plain": [
       "<Figure size 432x288 with 1 Axes>"
      ]
     },
     "metadata": {
      "needs_background": "light"
     },
     "output_type": "display_data"
    }
   ],
   "source": [
    "!pip install ipynb\n",
    "import import_ipynb\n",
    "from ipynb.fs.full.model_and_evaluation import prediction_school"
   ]
  },
  {
   "cell_type": "code",
   "execution_count": 2,
   "metadata": {},
   "outputs": [
    {
     "data": {
      "text/plain": [
       "(['The University of Alabama',\n",
       "  'John Carroll University',\n",
       "  'Florida Southern College',\n",
       "  'Delaware Valley College',\n",
       "  'Indiana University-Purdue University-Fort Wayne',\n",
       "  'Indiana University-Purdue University-Indianapolis',\n",
       "  'Montana State University-Northern',\n",
       "  'University of Hawaii-West Oahu',\n",
       "  'Pennsylvania State University-Penn State Shenango'],\n",
       " [[490.0, 500.0, 480.0, 22.0],\n",
       "  [490.0, 500.0, 480.0, 22.0],\n",
       "  [490.0, 500.0, 480.0, 22.0],\n",
       "  [496.5, 505.0, 480.0, 22.0],\n",
       "  [490.0, 500.0, 475.0, 21.5],\n",
       "  [495.0, 510.0, 485.0, 22.0],\n",
       "  [490.0, 505.0, 485.0, 22.0],\n",
       "  [480.0, 500.0, 470.0, 22.0],\n",
       "  [480.0, 510.0, 480.0, 22.0]])"
      ]
     },
     "execution_count": 2,
     "metadata": {},
     "output_type": "execute_result"
    }
   ],
   "source": [
    "input_data = [490.0,500.0,480.0,22.0]\n",
    "prediction_school(input_data)"
   ]
  }
 ],
 "metadata": {
  "kernelspec": {
   "display_name": "Python 3",
   "language": "python",
   "name": "python3"
  },
  "language_info": {
   "codemirror_mode": {
    "name": "ipython",
    "version": 3
   },
   "file_extension": ".py",
   "mimetype": "text/x-python",
   "name": "python",
   "nbconvert_exporter": "python",
   "pygments_lexer": "ipython3",
   "version": "3.7.6"
  }
 },
 "nbformat": 4,
 "nbformat_minor": 4
}
